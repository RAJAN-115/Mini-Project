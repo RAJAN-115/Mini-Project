{
 "cells": [
  {
   "cell_type": "code",
   "execution_count": 1,
   "metadata": {},
   "outputs": [],
   "source": [
    "#Step 1: Import Required Libraries\n",
    "import pandas as pd\n",
    "from sklearn.feature_extraction.text import CountVectorizer\n",
    "from sklearn.metrics.pairwise import cosine_similarity\n"
   ]
  },
  {
   "cell_type": "code",
   "execution_count": 2,
   "metadata": {},
   "outputs": [],
   "source": [
    "#Step 2: Load the Dataset\n",
    "#Next, we'll load the movie dataset into a pandas DataFrame:\n",
    "movies = pd.read_csv('https://raw.githubusercontent.com/rashida048/Some-NLP-Projects/master/movie_dataset.csv')\n"
   ]
  },
  {
   "cell_type": "code",
   "execution_count": 3,
   "metadata": {},
   "outputs": [],
   "source": [
    "#Step 3: Data Preprocessing\n",
    "#Before we can use the dataset to build a recommendation model, we need to preprocess the data. We'll start by dropping any rows with missing values:\n",
    "movies.dropna(inplace=True)\n"
   ]
  },
  {
   "cell_type": "code",
   "execution_count": 4,
   "metadata": {},
   "outputs": [],
   "source": [
    "#Then, we'll create a new column that combines the movie's title, cast, director, and keywords\n",
    "movies['combined_features'] = movies['title'] + ' ' + movies['cast'] + ' ' + movies['director'] + ' ' + movies['keywords']\n"
   ]
  },
  {
   "cell_type": "code",
   "execution_count": 5,
   "metadata": {},
   "outputs": [],
   "source": [
    "#Step 4: Feature Extraction\n",
    "#We'll use scikit-learn's CountVectorizer to convert the text data into a matrix of token counts:\n",
    "cv = CountVectorizer()\n",
    "count_matrix = cv.fit_transform(movies['combined_features'])\n"
   ]
  },
  {
   "cell_type": "code",
   "execution_count": 6,
   "metadata": {},
   "outputs": [],
   "source": [
    "#Step 5: Similarity Scores\n",
    "#Now we'll calculate the cosine similarity between the movies based on the count matrix:\n",
    "cosine_sim = cosine_similarity(count_matrix)\n"
   ]
  },
  {
   "cell_type": "code",
   "execution_count": 7,
   "metadata": {},
   "outputs": [],
   "source": [
    "#Step 6: Recommendation Function\n",
    "#Finally, we'll create a function that takes a movie title as input and returns the top 10 similar movies:\n",
    "def recommend(movie):\n",
    "    index = movies[movies['title'] == movie].index[0]\n",
    "    distances = cosine_sim[index]\n",
    "    movie_list = sorted(list(enumerate(distances)), reverse=True, key=lambda x: x[1])[1:11]\n",
    "    recommended_movies = [movies.iloc[i[0]].title for i in movie_list]\n",
    "    return recommended_movies\n"
   ]
  },
  {
   "cell_type": "code",
   "execution_count": 16,
   "metadata": {},
   "outputs": [
    {
     "name": "stdout",
     "output_type": "stream",
     "text": [
      "['Men in Black II', 'Men in Black', 'The Time Machine', 'In Time', 'Hot Tub Time Machine', 'Project Almanac', 'Primer', 'X-Men: Days of Future Past', 'In the Valley of Elah', \"Bill & Ted's Excellent Adventure\"]\n"
     ]
    }
   ],
   "source": [
    "#Step 7: Test the Model\n",
    "#Let's test the model by recommending movies similar to \"The Avengers\":\n",
    "print(recommend('The Avengers'))\n"
   ]
  }
 ],
 "metadata": {
  "kernelspec": {
   "display_name": "Python 3",
   "language": "python",
   "name": "python3"
  },
  "language_info": {
   "codemirror_mode": {
    "name": "ipython",
    "version": 3
   },
   "file_extension": ".py",
   "mimetype": "text/x-python",
   "name": "python",
   "nbconvert_exporter": "python",
   "pygments_lexer": "ipython3",
   "version": "3.11.1"
  },
  "orig_nbformat": 4
 },
 "nbformat": 4,
 "nbformat_minor": 2
}
